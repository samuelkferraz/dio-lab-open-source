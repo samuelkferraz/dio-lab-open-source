{
  "nbformat": 4,
  "nbformat_minor": 0,
  "metadata": {
    "colab": {
      "provenance": []
    },
    "kernelspec": {
      "name": "python3",
      "display_name": "Python 3"
    },
    "language_info": {
      "name": "python"
    }
  },
  "cells": [
    {
      "cell_type": "markdown",
      "source": [
        "O objetivo desse código é criar funções que transformem uma imagem colorida em níveis de cinza e em preto e branco. Faz parte do Bootcamp da DIO, consistindo em um desafio para praticar o conteúdo \"Redução de Dimensionalidade\"."
      ],
      "metadata": {
        "id": "Ko-PmABIkftt"
      }
    },
    {
      "cell_type": "code",
      "source": [
        "# Convertendo as matrizes para níveis de cinza\n",
        "\n",
        "def rgb_to_gray(matriz_rgb):\n",
        "    altura, largura, _ = matriz_rgb.shape\n",
        "    matriz_gray = np.zeros((altura, largura), dtype=np.uint8)\n",
        "\n",
        "    for i in range(altura):\n",
        "        for j in range(largura):\n",
        "            r, g, b = matriz_rgb[i, j]\n",
        "            # Fórmula de conversão: Y = 0.299*R + 0.587*G + 0.114*B\n",
        "            matriz_gray[i, j] = int(0.299 * r + 0.587 * g + 0.114 * b)\n",
        "\n",
        "    return matriz_gray\n",
        "\n",
        "matriz_gray = rgb_to_gray(matriz_rgb)"
      ],
      "metadata": {
        "id": "gx_DWgNJekJQ"
      },
      "execution_count": 5,
      "outputs": []
    },
    {
      "cell_type": "code",
      "execution_count": 1,
      "metadata": {
        "id": "_9zY51C8ctZ6"
      },
      "outputs": [],
      "source": [
        "# Importando as bibliotecas\n",
        "\n",
        "import requests\n",
        "from PIL import Image\n",
        "from io import BytesIO\n",
        "import numpy as np"
      ]
    },
    {
      "cell_type": "code",
      "source": [
        "# Importando imagem do Github, lendo no código e convertendo para matriz RGB\n",
        "\n",
        "url = \"https://raw.githubusercontent.com/samuelkferraz/datasets-and-files/main/inhotim.JPEG\"\n",
        "response = requests.get(url, stream=True)\n",
        "response.raw.decode_content = True # Ensure the content is decoded\n",
        "img = Image.open(BytesIO(response.content))\n",
        "img = img.convert(\"RGB\")\n",
        "matriz_rgb = np.array(img)"
      ],
      "metadata": {
        "id": "RoKsUUXbd9YV"
      },
      "execution_count": 4,
      "outputs": []
    },
    {
      "cell_type": "markdown",
      "source": [],
      "metadata": {
        "id": "Eka7MVX3kb-h"
      }
    },
    {
      "cell_type": "code",
      "source": [
        "# Convertendo as matrizes para preto e branco\n",
        "\n",
        "def binarize_image(matriz_gray, threshold=128):\n",
        "    altura, largura = matriz_gray.shape\n",
        "    matriz_bw = np.zeros((altura, largura), dtype=np.uint8)\n",
        "\n",
        "    for i in range(altura):\n",
        "        for j in range(largura):\n",
        "            matriz_bw[i, j] = 255 if matriz_gray[i, j] > threshold else 0\n",
        "\n",
        "    return matriz_bw\n",
        "\n",
        "matriz_bw = binarize_image(matriz_gray)"
      ],
      "metadata": {
        "id": "u7pf1wpbe1rB"
      },
      "execution_count": 6,
      "outputs": []
    },
    {
      "cell_type": "code",
      "source": [
        "# Voltando as matrizes para formato de imagem e exibindo resultados\n",
        "\n",
        "img_gray = Image.fromarray(matriz_gray)\n",
        "img_bw = Image.fromarray(matriz_bw)\n",
        "\n",
        "img_gray.show()\n",
        "img_bw.show()"
      ],
      "metadata": {
        "id": "Mw9HcEZfe_87"
      },
      "execution_count": 7,
      "outputs": []
    }
  ]
}