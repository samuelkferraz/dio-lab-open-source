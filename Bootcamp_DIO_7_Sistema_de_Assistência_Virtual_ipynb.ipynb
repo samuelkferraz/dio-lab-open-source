{
  "nbformat": 4,
  "nbformat_minor": 0,
  "metadata": {
    "colab": {
      "provenance": []
    },
    "kernelspec": {
      "name": "python3",
      "display_name": "Python 3"
    },
    "language_info": {
      "name": "python"
    }
  },
  "cells": [
    {
      "cell_type": "markdown",
      "source": [
        "# Sistema de Assistência Virtual\n",
        "\n"
      ],
      "metadata": {
        "id": "iBVKxkwOiFCO"
      }
    },
    {
      "cell_type": "markdown",
      "source": [
        "O objetivo desse código consiste em criar um assistente virtual com Processamento de Linguagem Natural (PLN), incluindo:\n",
        "\n",
        "Text-to-Speech (TTS) → Transformar texto em áudio\n",
        "\n",
        "Speech-to-Text (STT) → Transformar áudio (voz) em texto\n",
        "\n",
        "Automação por comandos de voz → Executar ações como pesquisar no Wikipedia, abrir o YouTube e localizar farmácias próximas"
      ],
      "metadata": {
        "id": "BTMl0-qiiNaf"
      }
    },
    {
      "cell_type": "markdown",
      "source": [
        "### Módulo TTS (Texto para Áudio)"
      ],
      "metadata": {
        "id": "3lENplV-jRg4"
      }
    },
    {
      "cell_type": "code",
      "source": [
        "# Instalando a biblioteca gTTS\n",
        "\n",
        "! pip install gTTS"
      ],
      "metadata": {
        "colab": {
          "base_uri": "https://localhost:8080/"
        },
        "id": "Px1rfTusjNLy",
        "outputId": "4e339d1f-7f93-455b-f487-ea5d2918f8c7"
      },
      "execution_count": 1,
      "outputs": [
        {
          "output_type": "stream",
          "name": "stdout",
          "text": [
            "Collecting gTTS\n",
            "  Downloading gTTS-2.5.4-py3-none-any.whl.metadata (4.1 kB)\n",
            "Requirement already satisfied: requests<3,>=2.27 in /usr/local/lib/python3.11/dist-packages (from gTTS) (2.32.3)\n",
            "Requirement already satisfied: click<8.2,>=7.1 in /usr/local/lib/python3.11/dist-packages (from gTTS) (8.1.8)\n",
            "Requirement already satisfied: charset-normalizer<4,>=2 in /usr/local/lib/python3.11/dist-packages (from requests<3,>=2.27->gTTS) (3.4.1)\n",
            "Requirement already satisfied: idna<4,>=2.5 in /usr/local/lib/python3.11/dist-packages (from requests<3,>=2.27->gTTS) (3.10)\n",
            "Requirement already satisfied: urllib3<3,>=1.21.1 in /usr/local/lib/python3.11/dist-packages (from requests<3,>=2.27->gTTS) (2.3.0)\n",
            "Requirement already satisfied: certifi>=2017.4.17 in /usr/local/lib/python3.11/dist-packages (from requests<3,>=2.27->gTTS) (2025.1.31)\n",
            "Downloading gTTS-2.5.4-py3-none-any.whl (29 kB)\n",
            "Installing collected packages: gTTS\n",
            "Successfully installed gTTS-2.5.4\n"
          ]
        }
      ]
    },
    {
      "cell_type": "code",
      "source": [
        "# Importando a biblioteca gTTS\n",
        "\n",
        "from gtts import gTTS"
      ],
      "metadata": {
        "id": "ee9Za6Wor8XX"
      },
      "execution_count": 17,
      "outputs": []
    },
    {
      "cell_type": "code",
      "source": [
        "# Rodando o módulo com inputs do usuário para o texto e o idioma\n",
        "text_to_say = input(\"Digite o texto para converter em fala: \")\n",
        "\n",
        "# Escolher idioma (opcional - pt como padrão)\n",
        "idiomas = {\"1\": \"pt\", \"2\": \"en\", \"3\": \"es\", \"4\": \"fr\"}\n",
        "print(\"\\nEscolha o idioma:\\n1 - Português\\n2 - English\\n3 - Español\\n4 - Français\")\n",
        "idioma_escolhido = input(\"Digite o número do idioma: \")\n",
        "\n",
        "# Definir idioma (padrão: pt-BR)\n",
        "language = idiomas.get(idioma_escolhido, \"pt\")\n",
        "\n",
        "# Criar áudio\n",
        "gtts_object = gTTS(text=text_to_say, lang=language, slow=False)\n",
        "gtts_object.save(\"audio.mp3\")"
      ],
      "metadata": {
        "colab": {
          "base_uri": "https://localhost:8080/"
        },
        "id": "uq9VPR6ZxanF",
        "outputId": "c45c54d4-a708-43a2-e045-c6510d9bd823"
      },
      "execution_count": 20,
      "outputs": [
        {
          "name": "stdout",
          "output_type": "stream",
          "text": [
            "Digite o texto para converter em fala: Boa tarde\n",
            "\n",
            "Escolha o idioma:\n",
            "1 - Português\n",
            "2 - English\n",
            "3 - Español\n",
            "4 - Français\n",
            "Digite o número do idioma: 1\n"
          ]
        }
      ]
    },
    {
      "cell_type": "code",
      "source": [
        "# Reproduzindo o áudio\n",
        "\n",
        "from IPython.display import Audio\n",
        "\n",
        "Audio(\"/content/audio.mp3\")"
      ],
      "metadata": {
        "colab": {
          "base_uri": "https://localhost:8080/",
          "height": 76
        },
        "id": "wvTbNFY7xXB1",
        "outputId": "9bdcd735-5cf6-490b-ade7-170ac1842df9"
      },
      "execution_count": 19,
      "outputs": [
        {
          "output_type": "execute_result",
          "data": {
            "text/plain": [
              "<IPython.lib.display.Audio object>"
            ],
            "text/html": [
              "\n",
              "                <audio  controls=\"controls\" >\n",
              "                    <source src=\"data:audio/mpeg;base64,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\" type=\"audio/mpeg\" />\n",
              "                    Your browser does not support the audio element.\n",
              "                </audio>\n",
              "              "
            ]
          },
          "metadata": {},
          "execution_count": 19
        }
      ]
    },
    {
      "cell_type": "markdown",
      "source": [
        "### Módulo STT (Áudio para texto)"
      ],
      "metadata": {
        "id": "dTjrmPKqjchQ"
      }
    },
    {
      "cell_type": "code",
      "source": [
        "# Instalando a biblioteca Speech Recognition\n",
        "\n",
        "!pip install SpeechRecognition pydub"
      ],
      "metadata": {
        "colab": {
          "base_uri": "https://localhost:8080/"
        },
        "id": "N9UcIQ7_ji-K",
        "outputId": "b491a37b-77ba-445c-f2e3-39ffba59baa2"
      },
      "execution_count": 3,
      "outputs": [
        {
          "output_type": "stream",
          "name": "stdout",
          "text": [
            "Collecting SpeechRecognition\n",
            "  Downloading SpeechRecognition-3.14.1-py3-none-any.whl.metadata (31 kB)\n",
            "Collecting pydub\n",
            "  Downloading pydub-0.25.1-py2.py3-none-any.whl.metadata (1.4 kB)\n",
            "Requirement already satisfied: typing-extensions in /usr/local/lib/python3.11/dist-packages (from SpeechRecognition) (4.12.2)\n",
            "Downloading SpeechRecognition-3.14.1-py3-none-any.whl (32.9 MB)\n",
            "\u001b[2K   \u001b[90m━━━━━━━━━━━━━━━━━━━━━━━━━━━━━━━━━━━━━━━━\u001b[0m \u001b[32m32.9/32.9 MB\u001b[0m \u001b[31m32.4 MB/s\u001b[0m eta \u001b[36m0:00:00\u001b[0m\n",
            "\u001b[?25hDownloading pydub-0.25.1-py2.py3-none-any.whl (32 kB)\n",
            "Installing collected packages: pydub, SpeechRecognition\n",
            "Successfully installed SpeechRecognition-3.14.1 pydub-0.25.1\n"
          ]
        }
      ]
    },
    {
      "cell_type": "code",
      "source": [
        "# Utilizando JavaScript para capturar audio por meio do microfone do dispositivo\n",
        "\n",
        "from google.colab import output\n",
        "import base64\n",
        "from IPython.display import Javascript, display, HTML\n",
        "\n",
        "# Código JavaScript para capturar áudio com botões\n",
        "js = Javascript(\"\"\"\n",
        "let mediaRecorder;\n",
        "let audioChunks = [];\n",
        "\n",
        "async function startRecording() {\n",
        "    const stream = await navigator.mediaDevices.getUserMedia({ audio: true });\n",
        "    mediaRecorder = new MediaRecorder(stream);\n",
        "\n",
        "    mediaRecorder.ondataavailable = event => {\n",
        "        audioChunks.push(event.data);\n",
        "    };\n",
        "\n",
        "    mediaRecorder.onstop = async () => {\n",
        "        const blob = new Blob(audioChunks, { type: 'audio/wav' });\n",
        "        const reader = new FileReader();\n",
        "        reader.readAsDataURL(blob);\n",
        "        reader.onloadend = () => {\n",
        "            google.colab.kernel.invokeFunction('notebook.save_audio', [reader.result], {});\n",
        "        };\n",
        "    };\n",
        "\n",
        "    audioChunks = [];\n",
        "    mediaRecorder.start();\n",
        "    document.getElementById(\"status\").innerText = \"🎙 Gravando...\";\n",
        "}\n",
        "\n",
        "function stopRecording() {\n",
        "    mediaRecorder.stop();\n",
        "    document.getElementById(\"status\").innerText = \"⏹ Gravação finalizada!\";\n",
        "}\n",
        "\n",
        "// Criando botões no Colab\n",
        "let container = document.createElement(\"div\");\n",
        "container.innerHTML = `\n",
        "    <button onclick=\"startRecording()\">🎙 Iniciar Gravação</button>\n",
        "    <button onclick=\"stopRecording()\">⏹ Parar Gravação</button>\n",
        "    <p id=\"status\">🔴 Aguardando...</p>\n",
        "`;\n",
        "document.body.appendChild(container);\n",
        "\"\"\")\n",
        "\n",
        "display(js)\n",
        "\n",
        "# Função para salvar áudio no Colab\n",
        "def save_audio(js_data):\n",
        "    audio_bytes = base64.b64decode(js_data.split(',')[1])\n",
        "    with open(\"audio.wav\", \"wb\") as f:\n",
        "        f.write(audio_bytes)\n",
        "    print(\"✅ Áudio salvo como 'audio.wav'\")\n",
        "\n",
        "# Registrar a função para salvar o áudio\n",
        "output.register_callback('notebook.save_audio', save_audio)\n",
        "\n"
      ],
      "metadata": {
        "colab": {
          "base_uri": "https://localhost:8080/",
          "height": 87
        },
        "id": "NuqEj8MOtYYl",
        "outputId": "2599c50b-e5d6-49c9-bc85-5c740aefc72c"
      },
      "execution_count": 12,
      "outputs": [
        {
          "output_type": "display_data",
          "data": {
            "text/plain": [
              "<IPython.core.display.Javascript object>"
            ],
            "application/javascript": [
              "\n",
              "let mediaRecorder;\n",
              "let audioChunks = [];\n",
              "\n",
              "async function startRecording() {\n",
              "    const stream = await navigator.mediaDevices.getUserMedia({ audio: true });\n",
              "    mediaRecorder = new MediaRecorder(stream);\n",
              "    \n",
              "    mediaRecorder.ondataavailable = event => {\n",
              "        audioChunks.push(event.data);\n",
              "    };\n",
              "\n",
              "    mediaRecorder.onstop = async () => {\n",
              "        const blob = new Blob(audioChunks, { type: 'audio/wav' });\n",
              "        const reader = new FileReader();\n",
              "        reader.readAsDataURL(blob);\n",
              "        reader.onloadend = () => {\n",
              "            google.colab.kernel.invokeFunction('notebook.save_audio', [reader.result], {});\n",
              "        };\n",
              "    };\n",
              "\n",
              "    audioChunks = [];\n",
              "    mediaRecorder.start();\n",
              "    document.getElementById(\"status\").innerText = \"🎙 Gravando...\";\n",
              "}\n",
              "\n",
              "function stopRecording() {\n",
              "    mediaRecorder.stop();\n",
              "    document.getElementById(\"status\").innerText = \"⏹ Gravação finalizada!\";\n",
              "}\n",
              "\n",
              "// Criando botões no Colab\n",
              "let container = document.createElement(\"div\");\n",
              "container.innerHTML = `\n",
              "    <button onclick=\"startRecording()\">🎙 Iniciar Gravação</button>\n",
              "    <button onclick=\"stopRecording()\">⏹ Parar Gravação</button>\n",
              "    <p id=\"status\">🔴 Aguardando...</p>\n",
              "`;\n",
              "document.body.appendChild(container);\n"
            ]
          },
          "metadata": {}
        },
        {
          "output_type": "stream",
          "name": "stdout",
          "text": [
            "✅ Áudio salvo como 'audio.wav'\n"
          ]
        }
      ]
    },
    {
      "cell_type": "code",
      "source": [
        "# Convertendo o formato capturado pelo JavaScript para WAV\n",
        "!apt-get install -y ffmpeg\n",
        "!ffmpeg -i audio.wav -ar 16000 -ac 1 -ab 192k -f wav audio_fixed.wav\n",
        "\n"
      ],
      "metadata": {
        "colab": {
          "base_uri": "https://localhost:8080/"
        },
        "id": "NLrIlbMxv-pg",
        "outputId": "3001cb74-f7f2-47ed-e6c2-677411f357d3"
      },
      "execution_count": 15,
      "outputs": [
        {
          "output_type": "stream",
          "name": "stdout",
          "text": [
            "Reading package lists... Done\n",
            "Building dependency tree... Done\n",
            "Reading state information... Done\n",
            "ffmpeg is already the newest version (7:4.4.2-0ubuntu0.22.04.1).\n",
            "0 upgraded, 0 newly installed, 0 to remove and 20 not upgraded.\n",
            "ffmpeg version 4.4.2-0ubuntu0.22.04.1 Copyright (c) 2000-2021 the FFmpeg developers\n",
            "  built with gcc 11 (Ubuntu 11.2.0-19ubuntu1)\n",
            "  configuration: --prefix=/usr --extra-version=0ubuntu0.22.04.1 --toolchain=hardened --libdir=/usr/lib/x86_64-linux-gnu --incdir=/usr/include/x86_64-linux-gnu --arch=amd64 --enable-gpl --disable-stripping --enable-gnutls --enable-ladspa --enable-libaom --enable-libass --enable-libbluray --enable-libbs2b --enable-libcaca --enable-libcdio --enable-libcodec2 --enable-libdav1d --enable-libflite --enable-libfontconfig --enable-libfreetype --enable-libfribidi --enable-libgme --enable-libgsm --enable-libjack --enable-libmp3lame --enable-libmysofa --enable-libopenjpeg --enable-libopenmpt --enable-libopus --enable-libpulse --enable-librabbitmq --enable-librubberband --enable-libshine --enable-libsnappy --enable-libsoxr --enable-libspeex --enable-libsrt --enable-libssh --enable-libtheora --enable-libtwolame --enable-libvidstab --enable-libvorbis --enable-libvpx --enable-libwebp --enable-libx265 --enable-libxml2 --enable-libxvid --enable-libzimg --enable-libzmq --enable-libzvbi --enable-lv2 --enable-omx --enable-openal --enable-opencl --enable-opengl --enable-sdl2 --enable-pocketsphinx --enable-librsvg --enable-libmfx --enable-libdc1394 --enable-libdrm --enable-libiec61883 --enable-chromaprint --enable-frei0r --enable-libx264 --enable-shared\n",
            "  libavutil      56. 70.100 / 56. 70.100\n",
            "  libavcodec     58.134.100 / 58.134.100\n",
            "  libavformat    58. 76.100 / 58. 76.100\n",
            "  libavdevice    58. 13.100 / 58. 13.100\n",
            "  libavfilter     7.110.100 /  7.110.100\n",
            "  libswscale      5.  9.100 /  5.  9.100\n",
            "  libswresample   3.  9.100 /  3.  9.100\n",
            "  libpostproc    55.  9.100 / 55.  9.100\n",
            "Input #0, matroska,webm, from 'audio.wav':\n",
            "  Metadata:\n",
            "    encoder         : Chrome\n",
            "  Duration: N/A, start: 0.000000, bitrate: N/A\n",
            "  Stream #0:0(eng): Audio: opus, 48000 Hz, mono, fltp (default)\n",
            "Stream mapping:\n",
            "  Stream #0:0 -> #0:0 (opus (native) -> pcm_s16le (native))\n",
            "Press [q] to stop, [?] for help\n",
            "Output #0, wav, to 'audio_fixed.wav':\n",
            "  Metadata:\n",
            "    ISFT            : Lavf58.76.100\n",
            "  Stream #0:0(eng): Audio: pcm_s16le ([1][0][0][0] / 0x0001), 16000 Hz, mono, s16, 256 kb/s (default)\n",
            "    Metadata:\n",
            "      encoder         : Lavc58.134.100 pcm_s16le\n",
            "size=      92kB time=00:00:02.93 bitrate= 256.3kbits/s speed=98.8x    \n",
            "video:0kB audio:92kB subtitle:0kB other streams:0kB global headers:0kB muxing overhead: 0.082908%\n"
          ]
        }
      ]
    },
    {
      "cell_type": "code",
      "source": [
        "import speech_recognition as sr\n",
        "\n",
        "recognizer = sr.Recognizer()\n",
        "\n",
        "# Carregar o arquivo de áudio corrigido\n",
        "with sr.AudioFile(\"audio_fixed.wav\") as source:\n",
        "    print(\"🎧 Processando áudio...\")\n",
        "    audio = recognizer.record(source)\n",
        "\n",
        "# Reconhecer o texto com Google Speech Recognition\n",
        "try:\n",
        "    texto = recognizer.recognize_google(audio, language=\"pt-BR\")\n",
        "    print(\"📝 Texto reconhecido:\", texto)\n",
        "except sr.UnknownValueError:\n",
        "    print(\"❌ Não foi possível entender o áudio\")\n",
        "except sr.RequestError:\n",
        "    print(\"❌ Erro ao conectar com o serviço de reconhecimento\")\n"
      ],
      "metadata": {
        "colab": {
          "base_uri": "https://localhost:8080/"
        },
        "id": "Xopm_MfhvCHK",
        "outputId": "4824341d-0a7b-4d86-d204-892cf653dc95"
      },
      "execution_count": 16,
      "outputs": [
        {
          "output_type": "stream",
          "name": "stdout",
          "text": [
            "🎧 Processando áudio...\n",
            "📝 Texto reconhecido: Bom dia\n"
          ]
        }
      ]
    },
    {
      "cell_type": "markdown",
      "source": [
        "### Módulo Automação por comandos de voz"
      ],
      "metadata": {
        "id": "vSOWiRw-jjzY"
      }
    },
    {
      "cell_type": "code",
      "source": [
        "# Importando dependências\n",
        "\n",
        "import webbrowser\n",
        "import datetime\n",
        "import os\n",
        "from gtts import gTTS\n",
        "from pygame import mixer\n",
        "import base64\n",
        "import speech_recognition as sr\n",
        "from google.colab import output\n",
        "import IPython.display as display\n",
        "import ipywidgets as widgets"
      ],
      "metadata": {
        "id": "aswvhKoHjqOx"
      },
      "execution_count": 24,
      "outputs": []
    },
    {
      "cell_type": "code",
      "source": [
        "# Capturando áudio com microfone do dispositivo usando código Java\n",
        "\n",
        "from google.colab import output\n",
        "import base64\n",
        "from IPython.display import Javascript, display\n",
        "\n",
        "# Código JavaScript para capturar áudio com botões\n",
        "js = Javascript(\"\"\"\n",
        "let mediaRecorder;\n",
        "let audioChunks = [];\n",
        "\n",
        "async function startRecording() {\n",
        "    const stream = await navigator.mediaDevices.getUserMedia({ audio: true });\n",
        "    mediaRecorder = new MediaRecorder(stream);\n",
        "\n",
        "    mediaRecorder.ondataavailable = event => {\n",
        "        audioChunks.push(event.data);\n",
        "    };\n",
        "\n",
        "    mediaRecorder.onstop = async () => {\n",
        "        const blob = new Blob(audioChunks, { type: 'audio/wav' });\n",
        "        const reader = new FileReader();\n",
        "        reader.readAsDataURL(blob);\n",
        "        reader.onloadend = () => {\n",
        "            google.colab.kernel.invokeFunction('notebook.save_voice_command', [reader.result], {});\n",
        "        };\n",
        "    };\n",
        "\n",
        "    audioChunks = [];\n",
        "    mediaRecorder.start();\n",
        "    document.getElementById(\"status\").innerText = \"🎙 Gravando comando de voz...\";\n",
        "}\n",
        "\n",
        "function stopRecording() {\n",
        "    mediaRecorder.stop();\n",
        "    document.getElementById(\"status\").innerText = \"⏹ Comando de voz capturado!\";\n",
        "}\n",
        "\n",
        "// Criando botões no Colab\n",
        "let container = document.createElement(\"div\");\n",
        "container.innerHTML = `\n",
        "    <button onclick=\"startRecording()\">🎙 Iniciar Comando de Voz</button>\n",
        "    <button onclick=\"stopRecording()\">⏹ Parar Comando de Voz</button>\n",
        "    <p id=\"status\">🔴 Aguardando comando...</p>\n",
        "`;\n",
        "document.body.appendChild(container);\n",
        "\"\"\")\n",
        "\n",
        "display(js)\n",
        "\n",
        "# Função para salvar o comando de voz no Colab\n",
        "def save_voice_command(js_data):\n",
        "    audio_bytes = base64.b64decode(js_data.split(',')[1])\n",
        "    with open(\"voice_command.wav\", \"wb\") as f:\n",
        "        f.write(audio_bytes)\n",
        "    print(\"✅ Comando de voz salvo como 'voice_command.wav'\")\n",
        "\n",
        "# Registrar a função para salvar o comando de voz\n",
        "output.register_callback('notebook.save_voice_command', save_voice_command)\n"
      ],
      "metadata": {
        "colab": {
          "base_uri": "https://localhost:8080/",
          "height": 87
        },
        "id": "itQcOSM_0HgJ",
        "outputId": "f0c3754e-6f48-4885-d9ca-ccfb54ceeb6e"
      },
      "execution_count": 25,
      "outputs": [
        {
          "output_type": "display_data",
          "data": {
            "text/plain": [
              "<IPython.core.display.Javascript object>"
            ],
            "application/javascript": [
              "\n",
              "let mediaRecorder;\n",
              "let audioChunks = [];\n",
              "\n",
              "async function startRecording() {\n",
              "    const stream = await navigator.mediaDevices.getUserMedia({ audio: true });\n",
              "    mediaRecorder = new MediaRecorder(stream);\n",
              "    \n",
              "    mediaRecorder.ondataavailable = event => {\n",
              "        audioChunks.push(event.data);\n",
              "    };\n",
              "\n",
              "    mediaRecorder.onstop = async () => {\n",
              "        const blob = new Blob(audioChunks, { type: 'audio/wav' });\n",
              "        const reader = new FileReader();\n",
              "        reader.readAsDataURL(blob);\n",
              "        reader.onloadend = () => {\n",
              "            google.colab.kernel.invokeFunction('notebook.save_voice_command', [reader.result], {});\n",
              "        };\n",
              "    };\n",
              "\n",
              "    audioChunks = [];\n",
              "    mediaRecorder.start();\n",
              "    document.getElementById(\"status\").innerText = \"🎙 Gravando comando de voz...\";\n",
              "}\n",
              "\n",
              "function stopRecording() {\n",
              "    mediaRecorder.stop();\n",
              "    document.getElementById(\"status\").innerText = \"⏹ Comando de voz capturado!\";\n",
              "}\n",
              "\n",
              "// Criando botões no Colab\n",
              "let container = document.createElement(\"div\");\n",
              "container.innerHTML = `\n",
              "    <button onclick=\"startRecording()\">🎙 Iniciar Comando de Voz</button>\n",
              "    <button onclick=\"stopRecording()\">⏹ Parar Comando de Voz</button>\n",
              "    <p id=\"status\">🔴 Aguardando comando...</p>\n",
              "`;\n",
              "document.body.appendChild(container);\n"
            ]
          },
          "metadata": {}
        },
        {
          "output_type": "stream",
          "name": "stdout",
          "text": [
            "✅ Comando de voz salvo como 'voice_command.wav'\n"
          ]
        }
      ]
    },
    {
      "cell_type": "code",
      "source": [
        "# Convertendo o formato capturado pelo JavaScript para WAV\n",
        "!apt-get install -y ffmpeg\n",
        "!ffmpeg -i voice_command.wav -ar 16000 -ac 1 -ab 192k -f wav voice_command_fixed.wav"
      ],
      "metadata": {
        "colab": {
          "base_uri": "https://localhost:8080/"
        },
        "id": "G6DctCYw2uoH",
        "outputId": "9d485d2d-7f3f-446c-f017-7d1562be238b"
      },
      "execution_count": 28,
      "outputs": [
        {
          "output_type": "stream",
          "name": "stdout",
          "text": [
            "Reading package lists... Done\n",
            "Building dependency tree... Done\n",
            "Reading state information... Done\n",
            "ffmpeg is already the newest version (7:4.4.2-0ubuntu0.22.04.1).\n",
            "0 upgraded, 0 newly installed, 0 to remove and 20 not upgraded.\n",
            "ffmpeg version 4.4.2-0ubuntu0.22.04.1 Copyright (c) 2000-2021 the FFmpeg developers\n",
            "  built with gcc 11 (Ubuntu 11.2.0-19ubuntu1)\n",
            "  configuration: --prefix=/usr --extra-version=0ubuntu0.22.04.1 --toolchain=hardened --libdir=/usr/lib/x86_64-linux-gnu --incdir=/usr/include/x86_64-linux-gnu --arch=amd64 --enable-gpl --disable-stripping --enable-gnutls --enable-ladspa --enable-libaom --enable-libass --enable-libbluray --enable-libbs2b --enable-libcaca --enable-libcdio --enable-libcodec2 --enable-libdav1d --enable-libflite --enable-libfontconfig --enable-libfreetype --enable-libfribidi --enable-libgme --enable-libgsm --enable-libjack --enable-libmp3lame --enable-libmysofa --enable-libopenjpeg --enable-libopenmpt --enable-libopus --enable-libpulse --enable-librabbitmq --enable-librubberband --enable-libshine --enable-libsnappy --enable-libsoxr --enable-libspeex --enable-libsrt --enable-libssh --enable-libtheora --enable-libtwolame --enable-libvidstab --enable-libvorbis --enable-libvpx --enable-libwebp --enable-libx265 --enable-libxml2 --enable-libxvid --enable-libzimg --enable-libzmq --enable-libzvbi --enable-lv2 --enable-omx --enable-openal --enable-opencl --enable-opengl --enable-sdl2 --enable-pocketsphinx --enable-librsvg --enable-libmfx --enable-libdc1394 --enable-libdrm --enable-libiec61883 --enable-chromaprint --enable-frei0r --enable-libx264 --enable-shared\n",
            "  libavutil      56. 70.100 / 56. 70.100\n",
            "  libavcodec     58.134.100 / 58.134.100\n",
            "  libavformat    58. 76.100 / 58. 76.100\n",
            "  libavdevice    58. 13.100 / 58. 13.100\n",
            "  libavfilter     7.110.100 /  7.110.100\n",
            "  libswscale      5.  9.100 /  5.  9.100\n",
            "  libswresample   3.  9.100 /  3.  9.100\n",
            "  libpostproc    55.  9.100 / 55.  9.100\n",
            "Input #0, matroska,webm, from 'voice_command.wav':\n",
            "  Metadata:\n",
            "    encoder         : Chrome\n",
            "  Duration: N/A, start: 0.000000, bitrate: N/A\n",
            "  Stream #0:0(eng): Audio: opus, 48000 Hz, mono, fltp (default)\n",
            "Stream mapping:\n",
            "  Stream #0:0 -> #0:0 (opus (native) -> pcm_s16le (native))\n",
            "Press [q] to stop, [?] for help\n",
            "Output #0, wav, to 'voice_command_fixed.wav':\n",
            "  Metadata:\n",
            "    ISFT            : Lavf58.76.100\n",
            "  Stream #0:0(eng): Audio: pcm_s16le ([1][0][0][0] / 0x0001), 16000 Hz, mono, s16, 256 kb/s (default)\n",
            "    Metadata:\n",
            "      encoder         : Lavc58.134.100 pcm_s16le\n",
            "size=      96kB time=00:00:03.05 bitrate= 256.3kbits/s speed= 185x    \n",
            "video:0kB audio:96kB subtitle:0kB other streams:0kB global headers:0kB muxing overhead: 0.079657%\n"
          ]
        }
      ]
    },
    {
      "cell_type": "code",
      "source": [
        "# Transformando o comando de voz em texto\n",
        "\n",
        "import speech_recognition as sr\n",
        "\n",
        "# Função para converter áudio em texto\n",
        "def transcrever_comando():\n",
        "    recognizer = sr.Recognizer()\n",
        "\n",
        "    with sr.AudioFile(\"voice_command_fixed.wav\") as source:\n",
        "        print(\"🎧 Processando comando de voz...\")\n",
        "        audio = recognizer.record(source)\n",
        "\n",
        "    try:\n",
        "        comando_texto = recognizer.recognize_google(audio, language=\"pt-BR\")\n",
        "        print(f\"🗣 Comando reconhecido: {comando_texto}\")\n",
        "        return comando_texto.lower()\n",
        "    except sr.UnknownValueError:\n",
        "        print(\"❌ Não foi possível entender o áudio.\")\n",
        "        return None\n",
        "    except sr.RequestError:\n",
        "        print(\"⚠️ Erro ao conectar ao serviço de reconhecimento de voz.\")\n",
        "        return None\n",
        "\n",
        "# Rodar o reconhecimento\n",
        "comando = transcrever_comando()\n"
      ],
      "metadata": {
        "colab": {
          "base_uri": "https://localhost:8080/"
        },
        "id": "NX-79X782k3C",
        "outputId": "39636c79-f73e-43cd-ea21-5855d4424ec9"
      },
      "execution_count": 29,
      "outputs": [
        {
          "output_type": "stream",
          "name": "stdout",
          "text": [
            "🎧 Processando comando de voz...\n",
            "🗣 Comando reconhecido: Abrir o Google\n"
          ]
        }
      ]
    },
    {
      "cell_type": "code",
      "source": [
        "# Processando o comando\n",
        "\n",
        "import re\n",
        "\n",
        "def processar_comando(comando):\n",
        "    comando = comando.lower()  # Normaliza para minúsculas\n",
        "\n",
        "    if \"horas\" in comando:\n",
        "        agora = datetime.datetime.now().strftime(\"%H:%M\")\n",
        "        resposta = f\"Agora são {agora}.\"\n",
        "\n",
        "    elif re.search(r\"\\b(abrir|abra|abre|acesse|acessa|acessar|vá para|ir para)\\b\", comando):  # Mais flexível\n",
        "        if \"google\" in comando:\n",
        "            webbrowser.open(\"https://www.google.com\")\n",
        "            resposta = \"Abrindo o Google.\"\n",
        "        elif \"youtube\" in comando:\n",
        "            webbrowser.open(\"https://www.youtube.com\")\n",
        "            resposta = \"Abrindo o YouTube.\"\n",
        "        else:\n",
        "            resposta = \"Não entendi qual site deseja abrir.\"\n",
        "\n",
        "    elif \"pesquise sobre\" in comando:\n",
        "        termo = comando.replace(\"pesquise sobre\", \"\").strip()\n",
        "        try:\n",
        "            resumo = wikipedia.summary(termo, sentences=1, lang=\"pt\")\n",
        "            resposta = f\"De acordo com a Wikipédia: {resumo}\"\n",
        "        except wikipedia.exceptions.DisambiguationError:\n",
        "            resposta = f\"Encontrei várias opções para {termo}. Seja mais específico.\"\n",
        "        except wikipedia.exceptions.PageError:\n",
        "            resposta = \"Não encontrei informações sobre esse assunto.\"\n",
        "\n",
        "    elif \"piada\" in comando:\n",
        "        resposta = pyjokes.get_joke(language=\"pt\")\n",
        "\n",
        "    elif \"sair\" in comando:\n",
        "        resposta = \"Até mais! Encerrando o assistente.\"\n",
        "        print(resposta)\n",
        "        return resposta\n",
        "\n",
        "    else:\n",
        "        resposta = \"Desculpe, não entendi o comando.\"\n",
        "\n",
        "    print(\"🤖:\", resposta)\n",
        "    return resposta\n"
      ],
      "metadata": {
        "id": "e6md-SoU3DrP"
      },
      "execution_count": 34,
      "outputs": []
    },
    {
      "cell_type": "code",
      "source": [
        "# Rodando o processamento do comando reconhecido\n",
        "if comando:\n",
        "    resposta = processar_comando(comando)"
      ],
      "metadata": {
        "colab": {
          "base_uri": "https://localhost:8080/"
        },
        "id": "7eWxZ2yb3YNO",
        "outputId": "d3d0ff6c-d3a7-4433-f846-1a93ebdae224"
      },
      "execution_count": 35,
      "outputs": [
        {
          "output_type": "stream",
          "name": "stdout",
          "text": [
            "🤖: Abrindo o Google.\n"
          ]
        }
      ]
    }
  ]
}